{
 "cells": [
  {
   "cell_type": "code",
   "execution_count": 101,
   "id": "1020655b-7eef-4fb8-9490-70f152d07269",
   "metadata": {},
   "outputs": [
    {
     "data": {
      "text/plain": [
       "<module 'utils' from '/usr/local/google/home/raulramos/projects/llmrouting/utils.py'>"
      ]
     },
     "execution_count": 101,
     "metadata": {},
     "output_type": "execute_result"
    }
   ],
   "source": [
    "import pandas as pd\n",
    "from IPython.display import Markdown\n",
    "import prompts\n",
    "import utils\n",
    "import json\n",
    "import numpy as np\n",
    "import matplotlib.pyplot as plt\n",
    "\n",
    "from importlib import reload\n",
    "reload(utils)"
   ]
  },
  {
   "cell_type": "code",
   "execution_count": 2,
   "id": "46bb4030-e42d-4070-9da3-c1aecbd55be5",
   "metadata": {},
   "outputs": [],
   "source": [
    "from sklearn.cluster import KMeans\n",
    "from sklearn.manifold import TSNE"
   ]
  },
  {
   "cell_type": "code",
   "execution_count": 58,
   "id": "133e15cc-7eef-4ca7-9647-4c1206ed8cf1",
   "metadata": {},
   "outputs": [],
   "source": [
    "d = pd.read_hdf('dolly_15k_extended_small_3k.h5')\n",
    "\n",
    "metrics = ['groundness', 'summarization', 'text_quality', 'verbosity']\n",
    "metrics = {k: pd.read_hdf(f'dolly_15k_extended_small_3k_{k}.h5') for k in metrics}\n",
    "for z in metrics.values():\n",
    "    z.set_index('id', inplace=True)"
   ]
  },
  {
   "cell_type": "code",
   "execution_count": 84,
   "id": "bed979ff-9a79-4fbe-9714-f0128c8ed918",
   "metadata": {},
   "outputs": [
    {
     "data": {
      "text/plain": [
       "instruction                                           Given a reference text about Justice League Da...\n",
       "context                                               Justice League Dark is a 2017 American adult a...\n",
       "response                                              The main actors in Justice League Dark were Ma...\n",
       "category                                                                                      closed_qa\n",
       "gemini-2.5-flash-preview-05-20::response              According to the text, the main actors and the...\n",
       "gemini-2.5-flash-preview-05-20::code                                                                 ok\n",
       "meta/llama-4-scout-17b-16e-instruct-maas::response    According to the text, the main actors and the...\n",
       "meta/llama-4-scout-17b-16e-instruct-maas::code                                                       ok\n",
       "text_embeddings                                       [-0.015762068331241608, 0.0003354823566041887,...\n",
       "cluster                                                                                               2\n",
       "Name: 3054, dtype: object"
      ]
     },
     "execution_count": 84,
     "metadata": {},
     "output_type": "execute_result"
    }
   ],
   "source": [
    "di = d.sample(1).iloc[0]\n",
    "di"
   ]
  },
  {
   "cell_type": "code",
   "execution_count": 85,
   "id": "1c16bef5-05ec-4e82-ae60-79a5000c193f",
   "metadata": {},
   "outputs": [
    {
     "name": "stdout",
     "output_type": "stream",
     "text": [
      "category closed_qa cluster 2\n"
     ]
    },
    {
     "data": {
      "text/markdown": [
       "Justice League Dark is a 2017 American adult animated science fantasy superhero film produced by Warner Bros. Animation and distributed by Warner Home Video. Featuring the DC Comics team of the same name created by Peter Milligan and Mikel Janín, the film is the 27th of the DC Universe Animated Original Movies and the eighth of the DC Animated Movie Universe. Unlike most installments in the DC Animated Universe Movies series, Justice League Dark features an original premise. The film stars Matt Ryan as John Constantine and Jason O'Mara as Batman, reprising their respective roles from previous media. It was released on Digital HD on January 24, 2017, and on DVD and Blu-ray on February 7.\n",
       "\n",
       "A sequel, Justice League Dark: Apokolips War, was released in May 2020.\n",
       "\n",
       "----\n",
       "\n",
       "Given a reference text about Justice League Dark, tell me who the main actors are and what roles they played."
      ],
      "text/plain": [
       "<IPython.core.display.Markdown object>"
      ]
     },
     "execution_count": 85,
     "metadata": {},
     "output_type": "execute_result"
    }
   ],
   "source": [
    "print  ('category', di.category, 'cluster', di.cluster)\n",
    "Markdown(f'{di.context}\\n\\n----\\n\\n{di.instruction}')"
   ]
  },
  {
   "cell_type": "code",
   "execution_count": 86,
   "id": "77cc554a-f945-4aff-accc-46c93908c0e7",
   "metadata": {},
   "outputs": [
    {
     "data": {
      "text/markdown": [
       "According to the text, the main actors and their roles are:\n",
       "\n",
       "*   **Matt Ryan** as John Constantine\n",
       "*   **Jason O'Mara** as Batman"
      ],
      "text/plain": [
       "<IPython.core.display.Markdown object>"
      ]
     },
     "execution_count": 86,
     "metadata": {},
     "output_type": "execute_result"
    }
   ],
   "source": [
    "Markdown(di['gemini-2.5-flash-preview-05-20::response'])"
   ]
  },
  {
   "cell_type": "code",
   "execution_count": 87,
   "id": "02f309c9-3adf-4270-b6d6-7498f600fa17",
   "metadata": {},
   "outputs": [
    {
     "data": {
      "text/markdown": [
       "According to the text, the main actors and their roles are:\n",
       "\n",
       "1. Matt Ryan - John Constantine\n",
       "2. Jason O'Mara - Batman"
      ],
      "text/plain": [
       "<IPython.core.display.Markdown object>"
      ]
     },
     "execution_count": 87,
     "metadata": {},
     "output_type": "execute_result"
    }
   ],
   "source": [
    "Markdown(di['meta/llama-4-scout-17b-16e-instruct-maas::response'])"
   ]
  },
  {
   "cell_type": "code",
   "execution_count": 88,
   "id": "fe3f222e-3c25-438b-9c03-997bf2123eb6",
   "metadata": {},
   "outputs": [
    {
     "data": {
      "text/plain": [
       "{'groundness': 0, 'summarization': 0, 'text_quality': 0, 'verbosity': 0}"
      ]
     },
     "execution_count": 88,
     "metadata": {},
     "output_type": "execute_result"
    }
   ],
   "source": [
    "ratings = {k: utils.extract_json_rating(v.loc[di.name].response)for k,v in metrics.items()}\n",
    "ratings"
   ]
  },
  {
   "cell_type": "code",
   "execution_count": null,
   "id": "9098dacb-d5c6-41e9-a402-d7c475f087de",
   "metadata": {},
   "outputs": [],
   "source": []
  },
  {
   "cell_type": "code",
   "execution_count": null,
   "id": "4f417fed-f5c0-401c-bd83-6a3939428326",
   "metadata": {},
   "outputs": [],
   "source": []
  },
  {
   "cell_type": "code",
   "execution_count": null,
   "id": "396404a7-a1db-4b2c-ba0c-20058421541b",
   "metadata": {},
   "outputs": [],
   "source": []
  },
  {
   "cell_type": "code",
   "execution_count": 4,
   "id": "65382a7f-3609-4866-8b65-8bf1e9fc853d",
   "metadata": {},
   "outputs": [
    {
     "data": {
      "text/html": [
       "<div>\n",
       "<style scoped>\n",
       "    .dataframe tbody tr th:only-of-type {\n",
       "        vertical-align: middle;\n",
       "    }\n",
       "\n",
       "    .dataframe tbody tr th {\n",
       "        vertical-align: top;\n",
       "    }\n",
       "\n",
       "    .dataframe thead th {\n",
       "        text-align: right;\n",
       "    }\n",
       "</style>\n",
       "<table border=\"1\" class=\"dataframe\">\n",
       "  <thead>\n",
       "    <tr style=\"text-align: right;\">\n",
       "      <th>clusters</th>\n",
       "      <th>0</th>\n",
       "      <th>1</th>\n",
       "      <th>2</th>\n",
       "      <th>3</th>\n",
       "      <th>4</th>\n",
       "      <th>5</th>\n",
       "      <th>6</th>\n",
       "      <th>7</th>\n",
       "    </tr>\n",
       "    <tr>\n",
       "      <th>topics</th>\n",
       "      <th></th>\n",
       "      <th></th>\n",
       "      <th></th>\n",
       "      <th></th>\n",
       "      <th></th>\n",
       "      <th></th>\n",
       "      <th></th>\n",
       "      <th></th>\n",
       "    </tr>\n",
       "  </thead>\n",
       "  <tbody>\n",
       "    <tr>\n",
       "      <th>brainstorming</th>\n",
       "      <td>27</td>\n",
       "      <td>237</td>\n",
       "      <td>1</td>\n",
       "      <td>17</td>\n",
       "      <td>9</td>\n",
       "      <td>22</td>\n",
       "      <td>6</td>\n",
       "      <td>41</td>\n",
       "    </tr>\n",
       "    <tr>\n",
       "      <th>classification</th>\n",
       "      <td>4</td>\n",
       "      <td>10</td>\n",
       "      <td>0</td>\n",
       "      <td>10</td>\n",
       "      <td>319</td>\n",
       "      <td>14</td>\n",
       "      <td>1</td>\n",
       "      <td>42</td>\n",
       "    </tr>\n",
       "    <tr>\n",
       "      <th>closed_qa</th>\n",
       "      <td>7</td>\n",
       "      <td>1</td>\n",
       "      <td>254</td>\n",
       "      <td>2</td>\n",
       "      <td>1</td>\n",
       "      <td>10</td>\n",
       "      <td>92</td>\n",
       "      <td>1</td>\n",
       "    </tr>\n",
       "    <tr>\n",
       "      <th>creative_writing</th>\n",
       "      <td>4</td>\n",
       "      <td>119</td>\n",
       "      <td>0</td>\n",
       "      <td>10</td>\n",
       "      <td>5</td>\n",
       "      <td>3</td>\n",
       "      <td>3</td>\n",
       "      <td>1</td>\n",
       "    </tr>\n",
       "    <tr>\n",
       "      <th>general_qa</th>\n",
       "      <td>2</td>\n",
       "      <td>229</td>\n",
       "      <td>0</td>\n",
       "      <td>102</td>\n",
       "      <td>12</td>\n",
       "      <td>33</td>\n",
       "      <td>7</td>\n",
       "      <td>52</td>\n",
       "    </tr>\n",
       "    <tr>\n",
       "      <th>information_extraction</th>\n",
       "      <td>120</td>\n",
       "      <td>0</td>\n",
       "      <td>122</td>\n",
       "      <td>1</td>\n",
       "      <td>3</td>\n",
       "      <td>6</td>\n",
       "      <td>60</td>\n",
       "      <td>1</td>\n",
       "    </tr>\n",
       "    <tr>\n",
       "      <th>open_qa</th>\n",
       "      <td>8</td>\n",
       "      <td>111</td>\n",
       "      <td>4</td>\n",
       "      <td>203</td>\n",
       "      <td>3</td>\n",
       "      <td>78</td>\n",
       "      <td>1</td>\n",
       "      <td>321</td>\n",
       "    </tr>\n",
       "    <tr>\n",
       "      <th>summarization</th>\n",
       "      <td>27</td>\n",
       "      <td>0</td>\n",
       "      <td>126</td>\n",
       "      <td>2</td>\n",
       "      <td>0</td>\n",
       "      <td>7</td>\n",
       "      <td>85</td>\n",
       "      <td>1</td>\n",
       "    </tr>\n",
       "  </tbody>\n",
       "</table>\n",
       "</div>"
      ],
      "text/plain": [
       "clusters                  0    1    2    3    4   5   6    7\n",
       "topics                                                      \n",
       "brainstorming            27  237    1   17    9  22   6   41\n",
       "classification            4   10    0   10  319  14   1   42\n",
       "closed_qa                 7    1  254    2    1  10  92    1\n",
       "creative_writing          4  119    0   10    5   3   3    1\n",
       "general_qa                2  229    0  102   12  33   7   52\n",
       "information_extraction  120    0  122    1    3   6  60    1\n",
       "open_qa                   8  111    4  203    3  78   1  321\n",
       "summarization            27    0  126    2    0   7  85    1"
      ]
     },
     "execution_count": 4,
     "metadata": {},
     "output_type": "execute_result"
    }
   ],
   "source": [
    "n_classes = len(np.unique(d.category.values))\n",
    "c = KMeans(n_clusters=n_classes).fit_predict(list(d.text_embeddings.values))\n",
    "r = pd.crosstab(d.category.values, c)\n",
    "r.columns.name = 'clusters'\n",
    "r.index.name = 'topics'\n",
    "r"
   ]
  },
  {
   "cell_type": "code",
   "execution_count": null,
   "id": "dd352f08-010a-4457-951d-25f5d5fcc50b",
   "metadata": {},
   "outputs": [],
   "source": []
  },
  {
   "cell_type": "markdown",
   "id": "bf42bf7d-347b-4f2b-ad4c-3c8ae8404198",
   "metadata": {},
   "source": [
    "## save clusters"
   ]
  },
  {
   "cell_type": "code",
   "execution_count": 5,
   "id": "a736a09c-c2b0-4525-8ef7-a0ccd1dd7b63",
   "metadata": {},
   "outputs": [],
   "source": [
    "d['cluster'] = c\n",
    "#d.to_hdf('dolly_15k_extended_small_3k.h5', key='main')"
   ]
  },
  {
   "cell_type": "code",
   "execution_count": 9,
   "id": "acb89b66-bf1a-490c-98b4-b38defbde79e",
   "metadata": {},
   "outputs": [],
   "source": [
    "d = pd.read_hdf('dolly_15k_extended_small_3k.h5')"
   ]
  },
  {
   "cell_type": "code",
   "execution_count": 11,
   "id": "436940b1-b7ae-473f-9bdb-c86826db0ac0",
   "metadata": {},
   "outputs": [
    {
     "data": {
      "text/html": [
       "<div>\n",
       "<style scoped>\n",
       "    .dataframe tbody tr th:only-of-type {\n",
       "        vertical-align: middle;\n",
       "    }\n",
       "\n",
       "    .dataframe tbody tr th {\n",
       "        vertical-align: top;\n",
       "    }\n",
       "\n",
       "    .dataframe thead th {\n",
       "        text-align: right;\n",
       "    }\n",
       "</style>\n",
       "<table border=\"1\" class=\"dataframe\">\n",
       "  <thead>\n",
       "    <tr style=\"text-align: right;\">\n",
       "      <th>clusters</th>\n",
       "      <th>0</th>\n",
       "      <th>1</th>\n",
       "      <th>2</th>\n",
       "      <th>3</th>\n",
       "      <th>4</th>\n",
       "      <th>5</th>\n",
       "      <th>6</th>\n",
       "      <th>7</th>\n",
       "    </tr>\n",
       "    <tr>\n",
       "      <th>topics</th>\n",
       "      <th></th>\n",
       "      <th></th>\n",
       "      <th></th>\n",
       "      <th></th>\n",
       "      <th></th>\n",
       "      <th></th>\n",
       "      <th></th>\n",
       "      <th></th>\n",
       "    </tr>\n",
       "  </thead>\n",
       "  <tbody>\n",
       "    <tr>\n",
       "      <th>brainstorming</th>\n",
       "      <td>0</td>\n",
       "      <td>31</td>\n",
       "      <td>0</td>\n",
       "      <td>266</td>\n",
       "      <td>50</td>\n",
       "      <td>2</td>\n",
       "      <td>11</td>\n",
       "      <td>0</td>\n",
       "    </tr>\n",
       "    <tr>\n",
       "      <th>classification</th>\n",
       "      <td>0</td>\n",
       "      <td>4</td>\n",
       "      <td>0</td>\n",
       "      <td>21</td>\n",
       "      <td>42</td>\n",
       "      <td>1</td>\n",
       "      <td>273</td>\n",
       "      <td>59</td>\n",
       "    </tr>\n",
       "    <tr>\n",
       "      <th>closed_qa</th>\n",
       "      <td>104</td>\n",
       "      <td>6</td>\n",
       "      <td>92</td>\n",
       "      <td>4</td>\n",
       "      <td>1</td>\n",
       "      <td>160</td>\n",
       "      <td>0</td>\n",
       "      <td>1</td>\n",
       "    </tr>\n",
       "    <tr>\n",
       "      <th>creative_writing</th>\n",
       "      <td>0</td>\n",
       "      <td>12</td>\n",
       "      <td>0</td>\n",
       "      <td>126</td>\n",
       "      <td>1</td>\n",
       "      <td>1</td>\n",
       "      <td>5</td>\n",
       "      <td>0</td>\n",
       "    </tr>\n",
       "    <tr>\n",
       "      <th>general_qa</th>\n",
       "      <td>3</td>\n",
       "      <td>3</td>\n",
       "      <td>0</td>\n",
       "      <td>350</td>\n",
       "      <td>65</td>\n",
       "      <td>3</td>\n",
       "      <td>12</td>\n",
       "      <td>1</td>\n",
       "    </tr>\n",
       "    <tr>\n",
       "      <th>information_extraction</th>\n",
       "      <td>55</td>\n",
       "      <td>110</td>\n",
       "      <td>53</td>\n",
       "      <td>0</td>\n",
       "      <td>1</td>\n",
       "      <td>92</td>\n",
       "      <td>2</td>\n",
       "      <td>0</td>\n",
       "    </tr>\n",
       "    <tr>\n",
       "      <th>open_qa</th>\n",
       "      <td>8</td>\n",
       "      <td>9</td>\n",
       "      <td>5</td>\n",
       "      <td>313</td>\n",
       "      <td>387</td>\n",
       "      <td>3</td>\n",
       "      <td>3</td>\n",
       "      <td>1</td>\n",
       "    </tr>\n",
       "    <tr>\n",
       "      <th>summarization</th>\n",
       "      <td>72</td>\n",
       "      <td>22</td>\n",
       "      <td>67</td>\n",
       "      <td>1</td>\n",
       "      <td>1</td>\n",
       "      <td>85</td>\n",
       "      <td>0</td>\n",
       "      <td>0</td>\n",
       "    </tr>\n",
       "  </tbody>\n",
       "</table>\n",
       "</div>"
      ],
      "text/plain": [
       "clusters                  0    1   2    3    4    5    6   7\n",
       "topics                                                      \n",
       "brainstorming             0   31   0  266   50    2   11   0\n",
       "classification            0    4   0   21   42    1  273  59\n",
       "closed_qa               104    6  92    4    1  160    0   1\n",
       "creative_writing          0   12   0  126    1    1    5   0\n",
       "general_qa                3    3   0  350   65    3   12   1\n",
       "information_extraction   55  110  53    0    1   92    2   0\n",
       "open_qa                   8    9   5  313  387    3    3   1\n",
       "summarization            72   22  67    1    1   85    0   0"
      ]
     },
     "execution_count": 11,
     "metadata": {},
     "output_type": "execute_result"
    }
   ],
   "source": [
    "r = pd.crosstab(d.category.values, d.cluster.values)\n",
    "r.columns.name = 'clusters'\n",
    "r.index.name = 'topics'\n",
    "r"
   ]
  },
  {
   "cell_type": "markdown",
   "id": "f556b7f6-0e74-465c-a2f5-28bc20a088f8",
   "metadata": {},
   "source": [
    "## inspect cluster elements"
   ]
  },
  {
   "cell_type": "code",
   "execution_count": 10,
   "id": "8da35856-5afa-4068-92e8-e6027bf2cec5",
   "metadata": {},
   "outputs": [
    {
     "data": {
      "text/plain": [
       "'How can a technical expert identify a business use case?'"
      ]
     },
     "execution_count": 10,
     "metadata": {},
     "output_type": "execute_result"
    }
   ],
   "source": [
    "topic = 'brainstorming'\n",
    "cluster = 3\n",
    "d[(c==cluster)&(d.category==topic)].sample(1).instruction.values[0]"
   ]
  },
  {
   "cell_type": "code",
   "execution_count": 7,
   "id": "e3c5e613-18db-4a48-b647-15f1a53d7513",
   "metadata": {},
   "outputs": [
    {
     "data": {
      "text/plain": [
       "'What is a dam?'"
      ]
     },
     "execution_count": 7,
     "metadata": {},
     "output_type": "execute_result"
    }
   ],
   "source": [
    "topic = 'creative_writing'\n",
    "cluster = 3\n",
    "d[(c==cluster)&(d.category==topic)].sample(1).instruction.values[0]"
   ]
  },
  {
   "cell_type": "code",
   "execution_count": 12,
   "id": "048b036e-f2ae-403c-8309-46191abf5465",
   "metadata": {},
   "outputs": [
    {
     "data": {
      "text/plain": [
       "'How can I ensure exactly-once delivery when reading data from Kafka with Spark?'"
      ]
     },
     "execution_count": 12,
     "metadata": {},
     "output_type": "execute_result"
    }
   ],
   "source": [
    "topic = 'general_qa'\n",
    "cluster = 3\n",
    "d[(c==cluster)&(d.category==topic)].sample(1).instruction.values[0]"
   ]
  },
  {
   "cell_type": "markdown",
   "id": "822162d8-5129-4bda-bb0e-5918cf23e5d8",
   "metadata": {},
   "source": [
    "## inspect cluster elements"
   ]
  },
  {
   "cell_type": "code",
   "execution_count": 14,
   "id": "90a6e650-dda9-4e55-91d6-9ec3369ff46e",
   "metadata": {},
   "outputs": [
    {
     "data": {
      "text/plain": [
       "'Who is Pearl Jam?'"
      ]
     },
     "execution_count": 14,
     "metadata": {},
     "output_type": "execute_result"
    }
   ],
   "source": [
    "topic = 'information_extraction'\n",
    "cluster = 2\n",
    "d[(c==cluster)&(d.category==topic)].sample(1).instruction.values[0]"
   ]
  },
  {
   "cell_type": "code",
   "execution_count": null,
   "id": "295e034c-dad8-4264-a9b4-b5992730f17f",
   "metadata": {},
   "outputs": [],
   "source": []
  },
  {
   "cell_type": "code",
   "execution_count": 8,
   "id": "26348854-6ac3-44c6-a7ef-e8c030f354c6",
   "metadata": {},
   "outputs": [
    {
     "data": {
      "text/plain": [
       "'When talking about paint colours, which one of these colours is considered \"cold\", \"warm\" or \"both\". Both meaning the way the colour is perceived depends on the colours surrounding it.\\nYellow, Yellow-Orange, Orange, Red-Orange, Red, Red-Violet, Violet, Blue-Violet, Blue, Blue-Green, Green, Yellow-Green'"
      ]
     },
     "execution_count": 8,
     "metadata": {},
     "output_type": "execute_result"
    }
   ],
   "source": [
    "topic = 'classification'\n",
    "cluster = 6\n",
    "d[(c==cluster)&(d.category==topic)].sample(1).instruction.values[0]"
   ]
  },
  {
   "cell_type": "markdown",
   "id": "4fd797c1-6868-4f82-a620-b3ced47be1a4",
   "metadata": {},
   "source": [
    "## tsne"
   ]
  },
  {
   "cell_type": "code",
   "execution_count": 103,
   "id": "0944cc8c-0c23-4dcd-aa63-8946b3a55cda",
   "metadata": {},
   "outputs": [
    {
     "data": {
      "image/png": "[encoded data removed]",
      "text/plain": [
       "<Figure size 640x480 with 1 Axes>"
      ]
     },
     "metadata": {},
     "output_type": "display_data"
    }
   ],
   "source": [
    "from sklearn.manifold import TSNE\n",
    "\n",
    "embs = np.r_[[i for i in d.text_embeddings.values]]\n",
    "\n",
    "embs_tsne = TSNE().fit_transform(embs)\n",
    "for i in range(8):\n",
    "    _x = embs_tsne[c==i]\n",
    "    plt.scatter(_x[:,0], _x[:,1], s=2, alpha=.5, label=f'cluster {i}')\n",
    "plt.grid()\n",
    "plt.legend();"
   ]
  },
  {
   "cell_type": "code",
   "execution_count": 98,
   "id": "0eeb254e-afe6-4901-93f3-959752da0856",
   "metadata": {},
   "outputs": [
    {
     "data": {
      "text/plain": [
       "array([[-2.27317493e-03, -5.44604845e-03, -9.82803293e-03, ...,\n",
       "         7.47253327e-03,  9.61031008e-04,  1.16733555e-03],\n",
       "       [-4.21636887e-02, -8.36988329e-04, -9.23765451e-03, ...,\n",
       "         1.33390650e-02, -9.71433427e-03,  4.42743720e-03],\n",
       "       [-8.82662274e-03, -1.75403699e-03,  3.13712396e-02, ...,\n",
       "        -3.17092077e-03, -1.03487531e-02,  8.28544071e-05],\n",
       "       ...,\n",
       "       [-1.61642693e-02,  1.73356086e-02, -2.61766580e-03, ...,\n",
       "         3.20649310e-03, -2.28938032e-02,  8.90259352e-03],\n",
       "       [-1.90008804e-02, -8.01130757e-03,  1.05943186e-02, ...,\n",
       "         1.16941822e-03,  9.32761410e-04,  9.67018120e-03],\n",
       "       [-2.59532072e-02, -2.68954597e-03,  6.93446677e-03, ...,\n",
       "        -1.44321541e-03, -1.10145863e-02,  5.55745093e-03]])"
      ]
     },
     "execution_count": 98,
     "metadata": {},
     "output_type": "execute_result"
    }
   ],
   "source": [
    "np.r_[[i for i in d.text_embeddings.values]]"
   ]
  },
  {
   "cell_type": "code",
   "execution_count": null,
   "id": "23be4775-4803-4459-80fd-69d0d5cd1029",
   "metadata": {},
   "outputs": [],
   "source": []
  }
 ],
 "metadata": {
  "kernelspec": {
   "display_name": "p312",
   "language": "python",
   "name": "p312"
  },
  "language_info": {
   "codemirror_mode": {
    "name": "ipython",
    "version": 3
   },
   "file_extension": ".py",
   "mimetype": "text/x-python",
   "name": "python",
   "nbconvert_exporter": "python",
   "pygments_lexer": "ipython3",
   "version": "3.12.5"
  }
 },
 "nbformat": 4,
 "nbformat_minor": 5
}
